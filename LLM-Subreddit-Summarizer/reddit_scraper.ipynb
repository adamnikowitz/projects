{
 "cells": [
  {
   "cell_type": "code",
   "execution_count": 5,
   "id": "642f098b-7c5b-4233-b234-f41ac180fd1b",
   "metadata": {},
   "outputs": [],
   "source": [
    "import pandas as pd\n",
    "import praw\n",
    "from dotenv import load_dotenv\n",
    "import os"
   ]
  },
  {
   "cell_type": "code",
   "execution_count": 9,
   "id": "29544c42-36f2-4e33-ac07-f3c38eadbc22",
   "metadata": {},
   "outputs": [],
   "source": [
    "load_dotenv()\n",
    "\n",
    "reddit_client_id = os.getenv(\"REDDIT_CLIENT_ID\")\n",
    "reddit_secret = os.getenv(\"REDDIT_SECRET\")\n",
    "reddit_user = os.getenv(\"REDDIT_USER\")\n",
    "reddit_pw = os.getenv(\"REDDIT_PW\")\n",
    "\n",
    "reddit = praw.Reddit(\n",
    "    client_id=reddit_client_id,\n",
    "    client_secret=reddit_secret,\n",
    "    user_agent=\"script:adam_llm_app:v1.0 (by u/Top-Woodpecker6696)\",\n",
    "    username=reddit_user,\n",
    "    password=reddit_pw\n",
    ")"
   ]
  },
  {
   "cell_type": "code",
   "execution_count": 16,
   "id": "aea629cb-ac57-4b88-98d9-511595bf35c8",
   "metadata": {
    "scrolled": true
   },
   "outputs": [
    {
     "name": "stdout",
     "output_type": "stream",
     "text": [
      "================================================================================\n",
      "Title: Steelers RB Kaleb Johnson is not getting enough love.\n",
      "Score: 241\n",
      "Post URL: https://www.reddit.com/r/fantasyfootball/comments/1kvbzal/steelers_rb_kaleb_johnson_is_not_getting_enough/\n",
      "Text: Johnson is 6’1, 224 lbs and had 1,725 Yards and 23 TD’s in JUST 12 Games and didn’t Fumble ONCE. Mike Tomlin called Johnson a \"high-volume, capable\" RB. Johnson is stepping right into the role Najee Harris had on the Steelers, but Johnson can catch in the passing game as well. Johnson should have more efficiency with that volume Najee got. Yes, Jaylen Warren will be there and be a factor, but Warren is also going to be a free agent after this season, so it is in the Steelers' interest to get Johnson going for 2026.\n",
      "\n",
      "Top Comments:\n",
      "- I mean he's a 6th round pick in bestball rn, higher than warren and higher than najee was last year.\n",
      "- An offense led by Mason Rudolph or the corpse of Aaron Rodgers is a massive red flag for Johnson’s productivity this year.\n",
      "- I tell my wife this every night\n",
      "- Not true I found this [Reddit post](https://www.reddit.com/r/fantasyfootball/s/00DRfJpUaD) talking highly of him\n",
      "- Maybe as a whole he’s not but he certainly is in my league. Johnson owner declined an offer of 2 1sts for him and said it wasn’t close to what he wanted lol\n",
      "================================================================================\n",
      "Title: Who Will Be The Packers Top WR This Season?\n",
      "Score: 22\n",
      "Post URL: https://www.reddit.com/r/fantasyfootball/comments/1kw0q2d/who_will_be_the_packers_top_wr_this_season/\n",
      "Text: The Green Bay Packers have a lot of receivers on the roster heading into the fantasy season this year. They picked up two new guys from the draft in Matthew Golden and Savion Williams. \n",
      "\n",
      "That's two more guys to stack top of Romeo Doubs, Jayden Reed, Dontayvion Wicks, and Christian Watson. \n",
      "\n",
      "With all of these guys to chose from, who do you think will be the best fantasy option from the Packers? \n",
      "\n",
      "If I had to pick, it would likely be Matthew Golden. He has the best upside and potential out of the group. The Packers invested a first round pick for Golden. Teams don't generally use a first on a guy just to put him on the bench. \n",
      "\n",
      "http://fantasysphinest.com/2025/05/26/fantasy-footballs-top-dog-analyzing-packers-receivers\n",
      "\n",
      "Top Comments:\n",
      "- I think the bigger question will be what stats will the packers wr1 put up? If it’s 60-800-2 for Reed and 54-750-4 for golden will it even matter?\n",
      "- The real winning answer here is to draft Jordan Love and look elsewhere for WRs\n",
      "- Your use of \"guy\" and \"guys\" is too damn high.\n",
      "- We know it ain’t Watson which is a shame cause he would’ve been their top down field threat if he could stay healthy. Golden and Watson wide and reed in the slot would be a nice room if not for inconsistency/uncertainty.\n",
      "- It will be a lot of golden and reed this year. Not sure who will be the third option, but Kraft might eat too much for anyone else to be relevant\n",
      "================================================================================\n",
      "Title: Official: [Keeper, Dynasty & Best Ball] - Mon 05/26/2025\n",
      "Score: 6\n",
      "Post URL: https://www.reddit.com/r/fantasyfootball/comments/1kvrlz4/official_keeper_dynasty_best_ball_mon_05262025/\n",
      "Text: **Post your Dynasty and Best Ball questions here rather than individual posts.**    \n",
      "\n",
      "-------------\n",
      "\n",
      "**PLEASE INCLUDE THE FOLLOWING IN YOUR POSTS**\n",
      "\n",
      "* League specific rules and details (dynasty or best ball, league size, PPR/.5PPR/non-PPR, roster details, custom scoring, bonuses etc.)     \n",
      "* Specific league rules\n",
      "* All players under consideration    \n",
      "* Any other pertinent information. \n",
      "\n",
      "---------------------\n",
      "\n",
      "**PLEASE TRY TO ANSWER SEVERAL OTHER PEOPLE'S QUESTIONS WHEN POSTING YOUR OWN**\n",
      "\n",
      "When answering questions, please make sure to sort by NEW! \n",
      "\n",
      "----------------\n",
      "\n",
      "Individual Dynasty or Best Ball threads posted after this point will be deleted in order to keep the subreddit clean. Post here instead! If everyone sorts by new, your questions should be answered.\n",
      "----\n",
      "**The following users have helped the most people in this thread:**\n",
      "\n",
      "User | # Helped in thread\n",
      "-------|:-----:\n",
      "My_Chat_Account|1\n",
      "\n",
      "-------------\n",
      "\n",
      "**The following posts have less than two replies in this thread. Please respond directly to the OP or the Bot will not pick up your comment. Please provide quality replies, short answers will be ignored.** \n",
      "\n",
      " **Would you like your post to be at the top of the list? Remember that the table is sorted by those that have helped the most other users.** \n",
      "\n",
      "\n",
      "\n",
      "User | # Helped in thread | # Helped in all threads | Direct Link\n",
      "----|:-----:|:-----:|----\n",
      "jamesmadisonskinsfan | 0 | 0 | [Comment](/r/fantasyfootball/comments/1kvrlz4/official_keeper_dynasty_best_ball_mon_05262025/mubu501/)\n",
      "drewseaba55 | 0 | 0 | [Comment](/r/fantasyfootball/comments/1kvrlz4/official_keeper_dynasty_best_ball_mon_05262025/muc4ivd/)\n",
      "Cordomver | 0 | 0 | [Comment](/r/fantasyfootball/comments/1kvrlz4/official_keeper_dynasty_best_ball_mon_05262025/muc5l8q/)\n",
      "\n",
      "^(This table will be updated every ~15 minutes.)\n",
      "\n",
      "Top Comments:\n",
      "- Absolutely keep Chase.\n",
      "\n",
      "How long can you keep Barkley? \n",
      "\n",
      "Is there a cap escalator for subsequent seasons? \n",
      "\n",
      "Those two questions are key for me.\n",
      "\n",
      "I know everyone’s going nuts for Achane, and I get why, but I worry about that offense as a whole if Tua takes yet another shot to the noggin. \n",
      "\n",
      "Unless you believe in Z Wilson behind an inexperienced O line with several new starters. That OL unit looks to be *a lot* worse on paper in 2025, and no one’s talking about it.\n",
      "\n",
      "Needless to say, I’m going to be lower than consensus on Achane, and I’d rather spend the extra $15 on Barkley. Chase Brown for $10 is interesting, though…especially if you get a cap lift for trading Barkley at his apex\n",
      "\n",
      "Full disclosure: I grew up an Eagles fan and both of my sons have kelly green Barkley jerseys\n",
      "- Sleeper 12 man PPR Dynasty startup with IDP - got Burrow at 1.08 which is a great anchor and now my 2.05 is coming up and I’m initially hoping for one of Lamb, Amon Ra, or Puka - but then I thought wait a second. We use 3 DB slots and Travis Hunter is listed as a WR/DB combination player. \n",
      "\n",
      "Is Travis Hunter such a positional cheat code to essentially play a WR in a DB slot - to consider him ahead of the 3 names mentioned above? 🤔\n",
      "- 10 team Half PPR 2 keepers max; $220 cap, 2 WR 2 RB 2 Flex \n",
      "\n",
      "WR Chase - $45 \n",
      "RB Barkley - $43\n",
      "RB Achane - $30\n",
      "RB C. Brown - $10 \n",
      "\n",
      "Got an offer to sell Saquon for a fee of $10 (raising my cap to $230)\n",
      "\n",
      "Leaving Brown / Chase. Really concerned about Barkley injury after his huge workload. The trends there historically indicate an injury plagued season. \n",
      "\n",
      "I could also redraft JaMarr for $60-65 so could go hard after him with confidence if I have Achane+Brown at RB with $190 in starting cap. \n",
      "\n",
      "Thanks!\n"
     ]
    }
   ],
   "source": [
    "subreddit_name = 'fantasyfootball'\n",
    "subreddit = reddit.subreddit(subreddit_name)\n",
    "\n",
    "top_posts = subreddit.top(time_filter=\"day\", limit=3)\n",
    "\n",
    "for post in top_posts:\n",
    "    print(\"=\"*80)\n",
    "    print(f\"Title: {post.title}\")\n",
    "    print(f\"Score: {post.score}\")\n",
    "    print(f\"Post URL: {post.url}\")\n",
    "    print(f\"Text: {post.selftext}\\n\")\n",
    "\n",
    "    print(\"Top Comments:\")\n",
    "    post.comments.replace_more(limit=0)\n",
    "    for comment in post.comments[:5]:\n",
    "        print(f\"- {comment.body[:5000]}\")\n",
    "    "
   ]
  },
  {
   "cell_type": "code",
   "execution_count": 23,
   "id": "bf1ee6b5-4440-427e-b543-e552bed65fec",
   "metadata": {},
   "outputs": [
    {
     "name": "stdout",
     "output_type": "stream",
     "text": [
      "Am I [24M] overreacting or is this enough reason to break up with my [27F] girlfriend.\n"
     ]
    }
   ],
   "source": [
    "top_posts = list(subreddit.top(limit=3))\n",
    "first_post = top_posts[0]\n",
    "print(first_post.comments)"
   ]
  },
  {
   "cell_type": "code",
   "execution_count": null,
   "id": "27c6831e-65dd-46ca-bae8-f8a680482234",
   "metadata": {},
   "outputs": [],
   "source": []
  }
 ],
 "metadata": {
  "kernelspec": {
   "display_name": "Python 3 (ipykernel)",
   "language": "python",
   "name": "python3"
  },
  "language_info": {
   "codemirror_mode": {
    "name": "ipython",
    "version": 3
   },
   "file_extension": ".py",
   "mimetype": "text/x-python",
   "name": "python",
   "nbconvert_exporter": "python",
   "pygments_lexer": "ipython3",
   "version": "3.13.2"
  },
  "widgets": {
   "application/vnd.jupyter.widget-state+json": {
    "state": {},
    "version_major": 2,
    "version_minor": 0
   }
  }
 },
 "nbformat": 4,
 "nbformat_minor": 5
}
