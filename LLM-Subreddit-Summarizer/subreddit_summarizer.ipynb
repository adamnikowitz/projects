{
 "cells": [
  {
   "cell_type": "code",
   "execution_count": 1,
   "id": "642f098b-7c5b-4233-b234-f41ac180fd1b",
   "metadata": {},
   "outputs": [],
   "source": [
    "import pandas as pd\n",
    "import praw\n",
    "from dotenv import load_dotenv\n",
    "import os\n",
    "import ollama"
   ]
  },
  {
   "cell_type": "code",
   "execution_count": 2,
   "id": "29544c42-36f2-4e33-ac07-f3c38eadbc22",
   "metadata": {},
   "outputs": [],
   "source": [
    "load_dotenv()\n",
    "\n",
    "reddit_client_id = os.getenv(\"REDDIT_CLIENT_ID\")\n",
    "reddit_secret = os.getenv(\"REDDIT_SECRET\")\n",
    "reddit_user = os.getenv(\"REDDIT_USER\")\n",
    "reddit_pw = os.getenv(\"REDDIT_PW\")\n",
    "user_agent = os.getenv(\"USER_AGENT\")\n",
    "\n",
    "reddit = praw.Reddit(\n",
    "    client_id=reddit_client_id,\n",
    "    client_secret=reddit_secret,\n",
    "    user_agent=user_agent,\n",
    "    username=reddit_user,\n",
    "    password=reddit_pw\n",
    ")"
   ]
  },
  {
   "cell_type": "code",
   "execution_count": 3,
   "id": "aea629cb-ac57-4b88-98d9-511595bf35c8",
   "metadata": {
    "scrolled": true
   },
   "outputs": [
    {
     "data": {
      "text/plain": [
       "{'post_title': 'Duck Dynasty founding father Phil Robertson dies at 79',\n",
       " 'post_url': 'https://www.nbcnews.com/news/obituaries/duck-dynasty-founding-father-phil-robertson-dies-79-rcna209035',\n",
       " 'prompt': 'Please summarize the following Reddit comments from the post titled: \"Duck Dynasty founding father Phil Robertson dies at 79\"\\n\\n    Comment 1 (by u/None):\\n[deleted]\\n\\nComment 2 (by u/Nellancher):\\nWhat\\'s crazy is he went to college and played QB and a very high level\\n\\nComment 3 (by u/Matman161):\\nGoldnecks: rich people who like pretending they\\'re just some country boys\\n\\nComment 4 (by u/Overall-Garbage-254):\\nClaims to be Pro-Life, dies.\\n\\nComment 5 (by u/beefdx):\\n“Two guys break into an atheist’s home, he has a little atheist wife and two little atheist daughters. Two guys break into his home, and tie him up in a chair and gag him. And then they take his two daughters in front of him and rape both of ‘em and then shoot ‘em. And they take his wife and decapitate her head off in front of him. And then they can look at him and say “Isn’t it great that I didn’t have to worry about being judged? Isn’t it great that there’s nothing wrong with this? There’s no right or wrong. Now is it, dude?” And then you take a sharp knife and take his manhood and hold it in front of him and say “Wouldn’t it be something if there was something wrong with this? But you’re the one who says there’s no god, there’s no right, there’s no wrong, so we’re just having fun! We’re sick in the head. Have a nice day.”\\n\\n-Phil Robertson\\n\\nYeah this is the thought process of a piece of garbage. Nothing was lost on this day. Good riddance, prick.\\n\\nComment 6 (by u/Aggravating_You3627):\\nIs that the super racist one?\\n\\nComment 7 (by u/Live-Motor-4000):\\nThe Hillbilly Kardashians\\n\\nComment 8 (by u/kimapesan):\\nHmmmm… a grifting father of a family of grifters no longer alive to grift. \\n\\nSo, what’s everyone doing for Memorial Day?\\n\\nComment 9 (by u/azmodan72):\\nHe’s visiting Rush Limbaugh.\\n\\nComment 10 (by u/ReistAdeio):\\nWasn’t this the same dumbass that said we don’t need universal healthcare because he’s got eternal life through the blood of Jesus Christ?\\n\\n    Please add additional context or info as needed. Use bullet points if helpful.\\n    '}"
      ]
     },
     "execution_count": 3,
     "metadata": {},
     "output_type": "execute_result"
    }
   ],
   "source": [
    "subreddit_name = 'news'\n",
    "subreddit = reddit.subreddit(subreddit_name)\n",
    "\n",
    "top_posts = subreddit.top(time_filter=\"day\", limit=3)\n",
    "\n",
    "comment_text_list = []\n",
    "\n",
    "for post in top_posts:\n",
    "    post.comments.replace_more(limit=0)\n",
    "    top_comments = post.comments[:10]\n",
    "\n",
    "    comments_text = \"\\n\\n\".join(\n",
    "        [f\"Comment {i+1} (by u/{c.author}):\\n{c.body.strip()}\" for i, c in enumerate(top_comments)]\n",
    "    )\n",
    "\n",
    "    prompt = f\"\"\"Please summarize the following Reddit comments from the post titled: \"{post.title}\"\n",
    "\n",
    "    {comments_text}\n",
    "\n",
    "    Please add additional context, info, or even fact-checking as needed. Use bullet points if helpful.\n",
    "    \"\"\"\n",
    "\n",
    "    comment_text_list.append({\n",
    "        \"post_title\": post.title,\n",
    "        \"post_url\": post.url,\n",
    "        \"prompt\": prompt\n",
    "    })\n",
    "\n",
    "comment_text_list[0]"
   ]
  },
  {
   "cell_type": "code",
   "execution_count": 12,
   "id": "27c6831e-65dd-46ca-bae8-f8a680482234",
   "metadata": {},
   "outputs": [
    {
     "name": "stdout",
     "output_type": "stream",
     "text": [
      "Title 1: Duck Dynasty founding father Phil Robertson dies at 79\n",
      "URL 1: https://www.nbcnews.com/news/obituaries/duck-dynasty-founding-father-phil-robertson-dies-79-rcna209035\n",
      "Here's a summary of the Reddit comments about Phil Robertson:\n",
      "\n",
      "**Tone and opinions:**\n",
      "\n",
      "* Most comments express disdain and negativity towards Phil Robertson, with some using strong language to describe him as \"garbage\" and \"a piece of garbage.\"\n",
      "* Some commenters accuse Robertson of being a racist (Comment 6) or a hypocrite for claiming to be Pro-Life while dying.\n",
      "* Others mock his family's lifestyle, comparing them to the \"Hillbilly Kardashians\" (Comment 7).\n",
      "\n",
      "**Personal anecdotes:**\n",
      "\n",
      "* Commenter u/Nellancher mentions that Phil Robertson played college football and attended college.\n",
      "\n",
      "**Quotes and satire:**\n",
      "\n",
      "* The comment featuring a satirical quote from Phil Robertson is used to express outrage and disgust towards his views. The quote describes a violent and dehumanizing scenario.\n",
      "* Commenters use the quote as an opportunity to criticize Robertson's views on atheism, Universal healthcare, and other social issues.\n",
      "\n",
      "**Post-death reactions:**\n",
      "\n",
      "* Some commenters seem relieved that Robertson is no longer alive, with one comment asking \"So, what's everyone doing for Memorial Day?\" (Comment 8).\n",
      "* Others express little interest in mourning his passing or acknowledging any positive aspects of his life.\n",
      "\n",
      "Overall, the comments on this Reddit post are overwhelmingly negative and critical towards Phil Robertson, reflecting a strong sense of disillusionment and disdain towards him and his views.\n",
      "================================================================================\n",
      "Title 2: Ex-police chief escapes from Arkansas prison where he was serving murder, rape sentences\n",
      "URL 2: https://www.cbsnews.com/news/grant-hardin-arkansas-prison-escape/\n",
      "Here's a summary of the Reddit comments:\n",
      "\n",
      "* Comment 1 (u/jlaine) mentions that DNA samples from a rape victim's clothes were used to apply for a \"John Doe\" warrant, which ultimately led to the conviction of the murderer, Hardin.\n",
      "* Comment 2 (u/Mrk2d) provides more context on Hardin's case, stating that he pleaded guilty to first-degree murder in connection with the shooting death of James Appleton in February 2017.\n",
      "* Comment 3 (u/topherus_maximus) reports on a shocking incident where an ex-police chief who was serving rape and murder sentences has escaped from prison and is now being investigated.\n",
      "\n",
      "The comments also discuss various theories about how Hardin escaped, including:\n",
      "\n",
      "* Comment 4 (u/LunarMoon2001): \"Totally accidentally\" released (no further explanation)\n",
      "* Comment 5 (u/Poglot): speculates that the recent prison breaks are not necessarily more common than usual, but rather getting more attention due to media coverage.\n",
      "* Comment 6 (u/Hot-Sea855): suspects that Hardin may have had inside help.\n",
      "* Comment 7 (u/New_Housing785): questions how someone with law enforcement experience could escape without being detected earlier.\n",
      "* Comment 8 (u/reala728): speculates that Hardin's knowledge of the prison layout and security measures likely contributed to his escape.\n",
      "\n",
      "Other comments express concern about the mental health system and the prioritization of financial gain over patient care:\n",
      "\n",
      "* Comment 8 (u/reala728) describes a personal experience working in a psych ward, highlighting the flaws in the system.\n",
      "* Comment 9 (u/michoudi): expresses a sense of hopelessness and impending doom.\n",
      "* Comment 10 (u/doggystyles69): condemns \"small town murder approved behavior\" and implies that Hardin's actions are symptomatic of broader societal issues.\n",
      "================================================================================\n",
      "Title 3: Mary Lou Retton arrested for DUI\n",
      "URL 3: https://www.wdtv.com/2025/05/26/mary-lou-retton-arrested-dui-marion-county/\n",
      "Here is a summary of the Reddit comments about Mary Lou Retton being arrested for DUI:\n",
      "\n",
      "**Context:**\n",
      "\n",
      "* Mary Lou Retton is an American Olympic gymnast who won the gold medal in 1984 and became a national icon.\n",
      "* In recent years, she has been involved in controversies related to her views on sports reform, healthcare, and social issues.\n",
      "\n",
      "**Comments:**\n",
      "\n",
      "* Some users expressed shock and disappointment at Retton's DUI arrest, with some implying that she was \"dying\" or in poor health recently. (Comment 2)\n",
      "* Others pointed out Retton's past actions, including campaigning against a bill calling for reform in gymnastics after the Nasser sexual assault scandal. (Comment 3)\n",
      "* A few users referenced her financial situation, noting that she had received a large sum of money from a settlement and was now struggling to cover basic expenses like an Uber ride. (Comment 6, Comment 8)\n",
      "* Some users criticized Retton for being hypocritical or out of touch with the struggles of others, citing her anti-safe sport act stance and her lack of support for universal healthcare. (Comment 7, Comment 8)\n",
      "* A few users expressed disappointment in Retton's personal life, noting that she had failed to maintain a positive public image after her Olympic career. (Comment 9)\n",
      "\n",
      "**Tone:**\n",
      "\n",
      "* The tone of the comments is generally negative and critical, with many users expressing frustration and disappointment with Retton's actions and views.\n",
      "* Some users used strong language, such as \"F her\" (Comment 3, Comment 8), to express their disapproval.\n",
      "\n",
      "**References:**\n",
      "\n",
      "* Comment 4 references a specific event or competition that Mary Lou Retton was involved in, but does not provide further details.\n",
      "* Comment 5 provides context about Mary Lou Retton's background and achievements, including her Olympic victory on the uneven bar.\n",
      "* Comment 10 references an American icon, Wheaties cereal box, to highlight the significance of Mary Lou Retton as a national figure.\n",
      "================================================================================\n"
     ]
    }
   ],
   "source": [
    "OLLAMA_API = \"http://localhost:11434/api/chat\"\n",
    "HEADERS = {\"Content-Type\": \"application/json\"}\n",
    "MODEL = \"llama3.2\"\n",
    "\n",
    "for i, prompt in enumerate(comment_text_list, start=0):\n",
    "    print(f\"Title {i + 1}: {prompt['post_title']}\")\n",
    "    print(f\"URL {i + 1}: {prompt['post_url']}\")\n",
    "    \n",
    "    content = comment_text_list[i]['prompt']\n",
    "    \n",
    "    messages = [\n",
    "        {\"role\": \"user\", \"content\": content}\n",
    "    ]\n",
    "    \n",
    "    response = ollama.chat(model=MODEL, messages=messages)\n",
    "    print(response['message']['content'])\n",
    "    print(\"=\" * 80)"
   ]
  },
  {
   "cell_type": "code",
   "execution_count": null,
   "id": "7f288ccc-ac55-49dd-96dc-81e4a4652359",
   "metadata": {},
   "outputs": [],
   "source": []
  }
 ],
 "metadata": {
  "kernelspec": {
   "display_name": "Python 3 (ipykernel)",
   "language": "python",
   "name": "python3"
  },
  "language_info": {
   "codemirror_mode": {
    "name": "ipython",
    "version": 3
   },
   "file_extension": ".py",
   "mimetype": "text/x-python",
   "name": "python",
   "nbconvert_exporter": "python",
   "pygments_lexer": "ipython3",
   "version": "3.13.2"
  },
  "widgets": {
   "application/vnd.jupyter.widget-state+json": {
    "state": {},
    "version_major": 2,
    "version_minor": 0
   }
  }
 },
 "nbformat": 4,
 "nbformat_minor": 5
}
