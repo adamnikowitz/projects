{
 "cells": [
  {
   "cell_type": "code",
   "execution_count": 25,
   "id": "a6e994bf",
   "metadata": {},
   "outputs": [],
   "source": [
    "def length_of_longest_substring(s: str) -> int:\n",
    "    char_list = []\n",
    "    longest_list = []\n",
    "    for each in s:\n",
    "        if each in char_list:\n",
    "            if len(char_list) > len(longest_list):\n",
    "                longest_list = char_list\n",
    "                #reset char_list\n",
    "                char_list = []\n",
    "                char_list.append(each)\n",
    "            else:\n",
    "                char_list.append(each)\n",
    "        else:\n",
    "            if len(char_list) > len(longest_list):\n",
    "                longest_list = char_list\n",
    "                char_list.append(each)\n",
    "            else:\n",
    "                char_list.append(each)\n",
    "\n",
    "    return len(longest_list)\n",
    "        "
   ]
  },
  {
   "cell_type": "code",
   "execution_count": 28,
   "id": "340bbecd",
   "metadata": {},
   "outputs": [
    {
     "data": {
      "text/plain": [
       "3"
      ]
     },
     "execution_count": 28,
     "metadata": {},
     "output_type": "execute_result"
    }
   ],
   "source": [
    "length_of_longest_substring(\"abcabcbb\")"
   ]
  },
  {
   "cell_type": "code",
   "execution_count": 6,
   "id": "3cac3f2f-5d72-4e42-a5cc-f9fb63440780",
   "metadata": {},
   "outputs": [
    {
     "name": "stdout",
     "output_type": "stream",
     "text": [
      "['a', 'b', 'c', 'a', 'b', 'c', 'b', 'b']\n"
     ]
    }
   ],
   "source": [
    "char_list = []\n",
    "\n",
    "for each in \"abcabcbb\":\n",
    "    char_list.append(each)\n",
    "\n",
    "print(char_list)"
   ]
  },
  {
   "cell_type": "code",
   "execution_count": 12,
   "id": "f5b6c693-4a2d-44d1-bdd4-2d82230056f1",
   "metadata": {},
   "outputs": [],
   "source": [
    "char_list = []\n",
    "longest_list = []"
   ]
  },
  {
   "cell_type": "code",
   "execution_count": 16,
   "id": "9d635ae8-774c-45c9-a0d5-0908eaeaff36",
   "metadata": {},
   "outputs": [
    {
     "data": {
      "text/plain": [
       "[]"
      ]
     },
     "execution_count": 16,
     "metadata": {},
     "output_type": "execute_result"
    }
   ],
   "source": [
    "longest_list"
   ]
  },
  {
   "cell_type": "code",
   "execution_count": 27,
   "id": "27d58851-2f68-4dd5-8005-62277735832e",
   "metadata": {},
   "outputs": [],
   "source": [
    "def length_of_longest_substring(s: str) -> int:\n",
    "    char_set = set()\n",
    "    left = 0\n",
    "    longest_length = 0\n",
    "\n",
    "    for right in range(len(s)):\n",
    "        while s[right] in char_set:\n",
    "            char_set.remove(s[left])\n",
    "            left += 1\n",
    "        char_set.add(s[right])\n",
    "        longest_length = max(longest_length, right - left + 1)\n",
    "\n",
    "    return longest_length"
   ]
  },
  {
   "cell_type": "code",
   "execution_count": 29,
   "id": "0d1babc2-3b10-4b66-9bd3-ed4e08d55699",
   "metadata": {},
   "outputs": [
    {
     "data": {
      "text/plain": [
       "'a'"
      ]
     },
     "execution_count": 29,
     "metadata": {},
     "output_type": "execute_result"
    }
   ],
   "source": [
    "s = \"abcabcbb\"\n",
    "s[0]"
   ]
  },
  {
   "cell_type": "code",
   "execution_count": 39,
   "id": "4dc7ca13-0e7a-4bc1-a784-c77d60d76b18",
   "metadata": {},
   "outputs": [],
   "source": [
    "def length_of_longest_substring(s: str) -> int:\n",
    "    left = 0\n",
    "    max_length = 0\n",
    "    char_map = {}  # character -> most recent index\n",
    "    \n",
    "    for right in range(len(s)):\n",
    "        print('left: ',left,' right',right,' char_map:',char_map)\n",
    "        char = s[right]\n",
    "        \n",
    "        # If char is in window and within current window bounds\n",
    "        if char in char_map and char_map[char] >= left:\n",
    "            left = char_map[char] + 1  # Move left past duplicate\n",
    "        \n",
    "        char_map[char] = right  # Update character's latest position\n",
    "        max_length = max(max_length, right - left + 1)\n",
    "    \n",
    "    return max_length"
   ]
  },
  {
   "cell_type": "code",
   "execution_count": 40,
   "id": "f2eb1c14-e6a6-451a-aa5f-e643f5daf9f4",
   "metadata": {},
   "outputs": [
    {
     "name": "stdout",
     "output_type": "stream",
     "text": [
      "left:  0  right 0  char_map: {}\n",
      "left:  0  right 1  char_map: {'a': 0}\n",
      "left:  0  right 2  char_map: {'a': 0, 'b': 1}\n",
      "left:  0  right 3  char_map: {'a': 0, 'b': 1, 'c': 2}\n",
      "left:  1  right 4  char_map: {'a': 3, 'b': 1, 'c': 2}\n",
      "left:  2  right 5  char_map: {'a': 3, 'b': 4, 'c': 2}\n",
      "left:  3  right 6  char_map: {'a': 3, 'b': 4, 'c': 5}\n",
      "left:  5  right 7  char_map: {'a': 3, 'b': 6, 'c': 5}\n"
     ]
    },
    {
     "data": {
      "text/plain": [
       "3"
      ]
     },
     "execution_count": 40,
     "metadata": {},
     "output_type": "execute_result"
    }
   ],
   "source": [
    "length_of_longest_substring(s)"
   ]
  },
  {
   "cell_type": "code",
   "execution_count": 54,
   "id": "1db93870-233e-46b3-a62a-0601b1c5d422",
   "metadata": {},
   "outputs": [],
   "source": [
    "#[1, 2, 3, 7, 5], 12\n",
    "from typing import List\n",
    "\n",
    "def subarray_sum_equals_target(nums: List[int], target: int) -> List[int]:\n",
    "    sum_list = []\n",
    "    final_list = []\n",
    "\n",
    "    for each in nums:\n",
    "        sum_list.append(each)\n",
    "        print(each, sum_list)\n",
    "        if sum(sum_list) == target:\n",
    "            final_list = sum_list\n",
    "            break\n",
    "        elif sum(sum_list) > target:\n",
    "            del sum_list[0]\n",
    "            if sum(sum_list) == target:\n",
    "                final_list = sum_list\n",
    "                break\n",
    "        \n",
    "    return final_list     "
   ]
  },
  {
   "cell_type": "code",
   "execution_count": 55,
   "id": "a6f4a6e1-eb93-4dc1-b87a-03c211253ae4",
   "metadata": {},
   "outputs": [
    {
     "name": "stdout",
     "output_type": "stream",
     "text": [
      "1 [1]\n",
      "2 [1, 2]\n",
      "3 [1, 2, 3]\n",
      "7 [1, 2, 3, 7]\n"
     ]
    },
    {
     "data": {
      "text/plain": [
       "[2, 3, 7]"
      ]
     },
     "execution_count": 55,
     "metadata": {},
     "output_type": "execute_result"
    }
   ],
   "source": [
    "subarray_sum_equals_target([1, 2, 3, 7, 5], 12)"
   ]
  },
  {
   "cell_type": "code",
   "execution_count": null,
   "id": "915706cb-93b5-4113-ba2b-669159c614c3",
   "metadata": {},
   "outputs": [],
   "source": []
  }
 ],
 "metadata": {
  "kernelspec": {
   "display_name": "Python 3 (ipykernel)",
   "language": "python",
   "name": "python3"
  },
  "language_info": {
   "codemirror_mode": {
    "name": "ipython",
    "version": 3
   },
   "file_extension": ".py",
   "mimetype": "text/x-python",
   "name": "python",
   "nbconvert_exporter": "python",
   "pygments_lexer": "ipython3",
   "version": "3.12.7"
  },
  "widgets": {
   "application/vnd.jupyter.widget-state+json": {
    "state": {},
    "version_major": 2,
    "version_minor": 0
   }
  }
 },
 "nbformat": 4,
 "nbformat_minor": 5
}
