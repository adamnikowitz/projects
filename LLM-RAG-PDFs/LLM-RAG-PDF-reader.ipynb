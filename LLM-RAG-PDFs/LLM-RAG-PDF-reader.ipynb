{
 "cells": [
  {
   "cell_type": "code",
   "execution_count": 1,
   "id": "17a563cc-dc73-4b36-8659-451374cf0038",
   "metadata": {},
   "outputs": [],
   "source": [
    "import os\n",
    "from pathlib import Path\n",
    "import glob\n",
    "from dotenv import load_dotenv\n",
    "import gradio as gr\n",
    "from langchain.document_loaders import DirectoryLoader, TextLoader\n",
    "from langchain.text_splitter import CharacterTextSplitter\n",
    "from langchain.schema import Document\n",
    "from langchain_openai import OpenAIEmbeddings, ChatOpenAI\n",
    "from langchain_chroma import Chroma\n",
    "import numpy as np\n",
    "from langchain.memory import ConversationBufferMemory\n",
    "from langchain.chains import ConversationalRetrievalChain\n",
    "import fitz"
   ]
  },
  {
   "cell_type": "code",
   "execution_count": 37,
   "id": "f01e80ce-6c1a-4287-bf40-223f4dbcb4ed",
   "metadata": {},
   "outputs": [],
   "source": [
    "MODEL = \"gpt-4o-mini\"\n",
    "db_name = \"chroma_db\"\n",
    "folder_path = \"PDFs\"\n",
    "\n",
    "load_dotenv(override=True)\n",
    "os.environ['OPENAI_API_KEY'] = os.getenv('OPENAI_API_KEY', 'your-key-if-not-using-env')"
   ]
  },
  {
   "cell_type": "code",
   "execution_count": 41,
   "id": "27a4bfaf-2904-49e0-b7bf-0eaca27ec646",
   "metadata": {},
   "outputs": [],
   "source": [
    "def pdf_to_text_chunks(folder_path, chunk_size=1000, chunk_overlap=100):\n",
    "    all_chunks = []\n",
    "    splitter = CharacterTextSplitter(\n",
    "        separator=\"\\n\",\n",
    "        chunk_size=chunk_size,\n",
    "        chunk_overlap=chunk_overlap,\n",
    "        length_function=len,\n",
    "    )\n",
    "\n",
    "    for filename in os.listdir(folder_path):\n",
    "        if filename.endswith(\".pdf\"):\n",
    "            pdf_path = os.path.join(folder_path, filename)\n",
    "            doc = fitz.open(pdf_path)\n",
    "            text = \"\"\n",
    "            for page in doc:\n",
    "                text += page.get_text()\n",
    "\n",
    "            chunks = splitter.split_text(text)\n",
    "            for chunk in chunks:\n",
    "                all_chunks.append({\"text\": chunk, \"source\": filename})\n",
    "\n",
    "    return all_chunks"
   ]
  },
  {
   "cell_type": "code",
   "execution_count": 42,
   "id": "70224d6c-b042-4e03-85d7-219ddf3cb2be",
   "metadata": {},
   "outputs": [],
   "source": [
    "def store_chunks_in_chroma(chunks, persist_directory=db_name):\n",
    "    documents = [\n",
    "        Document(page_content=chunk[\"text\"], metadata={\"source\": chunk[\"source\"]})\n",
    "        for chunk in chunks\n",
    "    ]\n",
    "\n",
    "    vectorstore = Chroma.from_documents(\n",
    "        documents,\n",
    "        embedding=OpenAIEmbeddings(),\n",
    "        persist_directory=persist_directory\n",
    "    )\n",
    "\n",
    "    if hasattr(vectorstore, \"persist\"):\n",
    "        vectorstore.persist()\n",
    "\n",
    "    print(f\"Stored {len(documents)} documents in Chroma.\")"
   ]
  },
  {
   "cell_type": "code",
   "execution_count": 59,
   "id": "27113f88-3cf2-4c34-b306-c6ceac5cce58",
   "metadata": {},
   "outputs": [],
   "source": [
    "embeddings = OpenAIEmbeddings()\n",
    "\n",
    "def process_pdfs_to_chroma(folder_path=folder_path, persist_directory=db_name):\n",
    "    if os.path.exists(db_name):\n",
    "        Chroma(persist_directory=db_name, embedding_function=embeddings).delete_collection()\n",
    "    \n",
    "    chunks = pdf_to_text_chunks(folder_path)\n",
    "    store_chunks_in_chroma(chunks, persist_directory=persist_directory)"
   ]
  },
  {
   "cell_type": "code",
   "execution_count": 60,
   "id": "01710be6-3dcf-43fe-b183-4e3642b6f829",
   "metadata": {},
   "outputs": [
    {
     "name": "stdout",
     "output_type": "stream",
     "text": [
      "Stored 82 documents in Chroma.\n"
     ]
    }
   ],
   "source": [
    "process_pdfs_to_chroma(folder_path, db_name)"
   ]
  },
  {
   "cell_type": "code",
   "execution_count": 61,
   "id": "96e4f4f0-59e3-4707-831e-92e07e6d7f35",
   "metadata": {},
   "outputs": [],
   "source": [
    "llm = ChatOpenAI(temperature=0.7, model_name=MODEL)\n",
    "\n",
    "# set up the conversation memory for the chat\n",
    "memory = ConversationBufferMemory(memory_key='chat_history', return_messages=True)\n",
    "\n",
    "# the retriever is an abstraction over the VectorStore that will be used during RAG\n",
    "vectorstore = Chroma(persist_directory=db_name, embedding_function=embeddings)\n",
    "retriever = vectorstore.as_retriever()\n",
    "\n",
    "# putting it together: set up the conversation chain with the GPT 4o-mini LLM, the vector store and memory\n",
    "conversation_chain = ConversationalRetrievalChain.from_llm(llm=llm, retriever=retriever, memory=memory)"
   ]
  },
  {
   "cell_type": "code",
   "execution_count": 62,
   "id": "fb6c3a4e-0752-4461-9e3b-22ba4c952d9e",
   "metadata": {},
   "outputs": [],
   "source": [
    "def chat(message, history):\n",
    "    result = conversation_chain.invoke({\"question\": message})\n",
    "    return result[\"answer\"]"
   ]
  },
  {
   "cell_type": "code",
   "execution_count": 63,
   "id": "1b8f6567-b452-484b-b90c-2566bfe97523",
   "metadata": {},
   "outputs": [
    {
     "name": "stdout",
     "output_type": "stream",
     "text": [
      "* Running on local URL:  http://127.0.0.1:7871\n",
      "* To create a public link, set `share=True` in `launch()`.\n"
     ]
    },
    {
     "data": {
      "text/html": [
       "<div><iframe src=\"http://127.0.0.1:7871/\" width=\"100%\" height=\"500\" allow=\"autoplay; camera; microphone; clipboard-read; clipboard-write;\" frameborder=\"0\" allowfullscreen></iframe></div>"
      ],
      "text/plain": [
       "<IPython.core.display.HTML object>"
      ]
     },
     "metadata": {},
     "output_type": "display_data"
    }
   ],
   "source": [
    "view = gr.ChatInterface(chat, type=\"messages\").launch(inbrowser=True)"
   ]
  },
  {
   "cell_type": "code",
   "execution_count": null,
   "id": "fbeccc82-3139-41da-ae23-bc0352bcf0e0",
   "metadata": {},
   "outputs": [],
   "source": []
  }
 ],
 "metadata": {
  "kernelspec": {
   "display_name": "Python 3 (ipykernel)",
   "language": "python",
   "name": "python3"
  },
  "language_info": {
   "codemirror_mode": {
    "name": "ipython",
    "version": 3
   },
   "file_extension": ".py",
   "mimetype": "text/x-python",
   "name": "python",
   "nbconvert_exporter": "python",
   "pygments_lexer": "ipython3",
   "version": "3.11.12"
  },
  "widgets": {
   "application/vnd.jupyter.widget-state+json": {
    "state": {},
    "version_major": 2,
    "version_minor": 0
   }
  }
 },
 "nbformat": 4,
 "nbformat_minor": 5
}
